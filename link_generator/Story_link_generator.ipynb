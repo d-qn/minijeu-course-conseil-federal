{
 "cells": [
  {
   "cell_type": "code",
   "execution_count": 1,
   "metadata": {
    "collapsed": true
   },
   "outputs": [],
   "source": [
    "import pandas as pd\n",
    "import json"
   ]
  },
  {
   "cell_type": "code",
   "execution_count": 2,
   "metadata": {
    "collapsed": true
   },
   "outputs": [],
   "source": [
    "df = pd.read_csv('story_links.csv')"
   ]
  },
  {
   "cell_type": "markdown",
   "metadata": {},
   "source": [
    "# avec texte, Tribune de Genève"
   ]
  },
  {
   "cell_type": "code",
   "execution_count": 6,
   "metadata": {},
   "outputs": [
    {
     "name": "stdout",
     "output_type": "stream",
     "text": [
      "<div class=\"stories stories_cassis\">\n",
      "<h4>Lire des articles sur les «ennemis» qu’affronte Ignazio Cassis:</h4>\n",
      "<div><div class=\"enemylink\" style=\"width: 50px;\"><a target=\"_blank\" href=\"https://www.tdg.ch/suisse/Le-Tessin-et-plus-de-femmes-au-gouvernement/story/30730019\"><img src=\"images/monster_cassis.png\" style=\"margin-left: 0px; margin-right: -50px\" /></a></div><p>Parité</p></div>\n",
      "<div><div class=\"enemylink\" style=\"width: 76px;\"><a target=\"_blank\" href=\"https://www.tdg.ch/suisse/plan-secret-elire-isabelle-moret/story/11809943\"><img src=\"images/monster_cassis.png\" style=\"margin-left: -100px; margin-right: -176px\" /></a></div><p>«Filippo»</p></div>\n",
      "<div><div class=\"enemylink\" style=\"width: 50px;\"><a target=\"_blank\" href=\"https://www.tdg.ch/geneve/actu-genevoise/google-isabelle-moret-double-pierre-maudet/story/31791964\"><img src=\"images/monster_cassis.png\" style=\"margin-left: -404px; margin-right: -454px\" /></a></div><p>Vaud</p></div>\n",
      "<div><div class=\"enemylink\" style=\"width: 58px;\"><a target=\"_blank\" href=\"https://www.tdg.ch/suisse/ignazio-cassis-renonce-passeport-italien/story/15875312\"><img src=\"images/monster_cassis.png\" style=\"margin-left: -604px; margin-right: -662px\" /></a></div><p>Passeport</p></div>\n",
      "</div>\n",
      "<div class=\"stories stories_maudet\">\n",
      "<h4>Lire des articles sur les «ennemis» qu’affronte Pierre Maudet:</h4>\n",
      "<div><div class=\"enemylink\" style=\"width: 50px;\"><a target=\"_blank\" href=\"https://www.tdg.ch/suisse/Le-Tessin-et-plus-de-femmes-au-gouvernement/story/30730019\"><img src=\"images/monster_maudet.png\" style=\"margin-left: 0px; margin-right: -50px\" /></a></div><p>Parité</p></div>\n",
      "<div><div class=\"enemylink\" style=\"width: 76px;\"><a target=\"_blank\" href=\"https://www.tdg.ch/suisse/plan-secret-elire-isabelle-moret/story/11809943\"><img src=\"images/monster_maudet.png\" style=\"margin-left: -100px; margin-right: -176px\" /></a></div><p>«Filippo»</p></div>\n",
      "<div><div class=\"enemylink\" style=\"width: 50px;\"><a target=\"_blank\" href=\"https://www.tdg.ch/suisse/Le-Tessin-et-plus-de-femmes-au-gouvernement/story/30730019\"><img src=\"images/monster_maudet.png\" style=\"margin-left: -404px; margin-right: -454px\" /></a></div><p>Tessin</p></div>\n",
      "<div><div class=\"enemylink\" style=\"width: 58px;\"><a target=\"_blank\" href=\"https://www.tdg.ch/geneve/actu-genevoise/pierre-maudet-candidat-conseil-federal-berne-parler-sujets-fond/story/22241312\"><img src=\"images/monster_maudet.png\" style=\"margin-left: -604px; margin-right: -662px\" /></a></div><p>UE</p></div>\n",
      "</div>\n",
      "<div class=\"stories stories_moret\">\n",
      "<h4>Lire des articles sur les «ennemis» qu’affronte Isabelle Moret:</h4>\n",
      "<div><div class=\"enemylink\" style=\"width: 50px;\"><a target=\"_blank\" href=\"https://www.tdg.ch/suisse/louvoiements-moret-liens-interets/story/24816582\"><img src=\"images/monster_moret.png\" style=\"margin-left: 0px; margin-right: -50px\" /></a></div><p>Hôpitaux</p></div>\n",
      "<div><div class=\"enemylink\" style=\"width: 76px;\"><a target=\"_blank\" href=\"https://www.tdg.ch/suisse/conseil-federal-femmes-droite-marche/story/29375081\"><img src=\"images/monster_moret.png\" style=\"margin-left: -100px; margin-right: -176px\" /></a></div><p>Karin Keller-Sutter</p></div>\n",
      "<div><div class=\"enemylink\" style=\"width: 50px;\"><a target=\"_blank\" href=\"https://www.tdg.ch/suisse/heure-verite-isabelle-moret-pierre-maudet/story/26753980\"><img src=\"images/monster_moret.png\" style=\"margin-left: -404px; margin-right: -454px\" /></a></div><p>Tessin</p></div>\n",
      "<div><div class=\"enemylink\" style=\"width: 58px;\"><a target=\"_blank\" href=\"https://www.tdg.ch/suisse/L-heure-de-verite-pour-Isabelle-Moret-et-Pierre-Maudet/story/26753980\"><img src=\"images/monster_moret.png\" style=\"margin-left: -604px; margin-right: -662px\" /></a></div><p>Genève</p></div>\n",
      "</div>\n"
     ]
    }
   ],
   "source": [
    "for name, group in df.groupby('name'):\n",
    "    output = '<div class=\"stories stories_{}\">\\n'.format(name.lower())\n",
    "    output += '<h4>Lire des articles sur les «ennemis» qu’affronte {}:</h4>\\n'.format(group['fn'].values[0])\n",
    "    for i, row in group.iterrows():\n",
    "        imgstr = '<div><div class=\"enemylink\" style=\"width: {}px;\"><a target=\"_blank\" href=\"{}\"><img src=\"images/monster_{}.png\" style=\"margin-left: {}px; margin-right: {}px\" /></a></div><p>{}</p></div>\\n'\n",
    "\n",
    "        output += imgstr.format(row['width'], row['tdg'], row['name'].lower(), -row['clip_x1'], -row['clip_x2'], row['enemy'])\n",
    "    output += '</div>'\n",
    "    print(output)"
   ]
  },
  {
   "cell_type": "code",
   "execution_count": null,
   "metadata": {
    "collapsed": true
   },
   "outputs": [],
   "source": []
  },
  {
   "cell_type": "markdown",
   "metadata": {},
   "source": [
    "# avec texte, 24 heures"
   ]
  },
  {
   "cell_type": "code",
   "execution_count": 5,
   "metadata": {},
   "outputs": [
    {
     "name": "stdout",
     "output_type": "stream",
     "text": [
      "<div class=\"stories stories_cassis\">\n",
      "<h4>Lire des articles sur les «ennemis» qu’affronte Ignazio Cassis:</h4>\n",
      "<div><div class=\"enemylink\" style=\"width: 50px;\"><a target=\"_blank\" href=\"https://www.24heures.ch/suisse/destin-maudit-candidates-plr-conseil-federal/story/14296426\"><img src=\"images/monster_cassis.png\" style=\"margin-left: 0px; margin-right: -50px\" /></a></div><p>Parité</p></div>\n",
      "<div><div class=\"enemylink\" style=\"width: 76px;\"><a target=\"_blank\" href=\"https://www.24heures.ch/suisse/plan-secret-elire-isabelle-moret/story/11809943\"><img src=\"images/monster_cassis.png\" style=\"margin-left: -100px; margin-right: -176px\" /></a></div><p>«Filippo»</p></div>\n",
      "<div><div class=\"enemylink\" style=\"width: 50px;\"><a target=\"_blank\" href=\"https://www.24heures.ch/suisse/vaudois-pratiquent-souvent-conseil-federal/story/30329465\"><img src=\"images/monster_cassis.png\" style=\"margin-left: -404px; margin-right: -454px\" /></a></div><p>Vaud</p></div>\n",
      "<div><div class=\"enemylink\" style=\"width: 58px;\"><a target=\"_blank\" href=\"https://www.24heures.ch/suisse/ignazio-cassis-renonce-passeport-italien/story/15875312\"><img src=\"images/monster_cassis.png\" style=\"margin-left: -604px; margin-right: -662px\" /></a></div><p>Passeport</p></div>\n",
      "</div>\n",
      "<div class=\"stories stories_maudet\">\n",
      "<h4>Lire des articles sur les «ennemis» qu’affronte Pierre Maudet:</h4>\n",
      "<div><div class=\"enemylink\" style=\"width: 50px;\"><a target=\"_blank\" href=\"https://www.24heures.ch/suisse/destin-maudit-candidates-plr-conseil-federal/story/14296426\"><img src=\"images/monster_maudet.png\" style=\"margin-left: 0px; margin-right: -50px\" /></a></div><p>Parité</p></div>\n",
      "<div><div class=\"enemylink\" style=\"width: 76px;\"><a target=\"_blank\" href=\"https://www.24heures.ch/suisse/plan-secret-elire-isabelle-moret/story/11809943\"><img src=\"images/monster_maudet.png\" style=\"margin-left: -100px; margin-right: -176px\" /></a></div><p>«Filippo»</p></div>\n",
      "<div><div class=\"enemylink\" style=\"width: 50px;\"><a target=\"_blank\" href=\"https://www.24heures.ch/suisse/heure-verite-isabelle-moret-pierre-maudet/story/19475092\"><img src=\"images/monster_maudet.png\" style=\"margin-left: -404px; margin-right: -454px\" /></a></div><p>Tessin</p></div>\n",
      "<div><div class=\"enemylink\" style=\"width: 58px;\"><a target=\"_blank\" href=\"https://www.24heures.ch/news/news/pierre-maudet-candidat-conseil-federal-berne-parler-sujets-fond/story/13980975\"><img src=\"images/monster_maudet.png\" style=\"margin-left: -604px; margin-right: -662px\" /></a></div><p>UE</p></div>\n",
      "</div>\n",
      "<div class=\"stories stories_moret\">\n",
      "<h4>Lire des articles sur les «ennemis» qu’affronte Isabelle Moret:</h4>\n",
      "<div><div class=\"enemylink\" style=\"width: 50px;\"><a target=\"_blank\" href=\"https://www.24heures.ch/suisse/Les-louvoiements-de-Moret-sur-ses-liens-d-interets/story/27752222\"><img src=\"images/monster_moret.png\" style=\"margin-left: 0px; margin-right: -50px\" /></a></div><p>Hôpitaux</p></div>\n",
      "<div><div class=\"enemylink\" style=\"width: 76px;\"><a target=\"_blank\" href=\"https://www.24heures.ch/suisse/politique/Conseil-federal-femmes-de-droite-en-marche/story/22718219\"><img src=\"images/monster_moret.png\" style=\"margin-left: -100px; margin-right: -176px\" /></a></div><p>Karin Keller-Sutter</p></div>\n",
      "<div><div class=\"enemylink\" style=\"width: 50px;\"><a target=\"_blank\" href=\"https://www.24heures.ch/suisse/heure-verite-isabelle-moret-pierre-maudet/story/19475092\"><img src=\"images/monster_moret.png\" style=\"margin-left: -404px; margin-right: -454px\" /></a></div><p>Tessin</p></div>\n",
      "<div><div class=\"enemylink\" style=\"width: 58px;\"><a target=\"_blank\" href=\"https://www.24heures.ch/suisse/heure-verite-isabelle-moret-pierre-maudet/story/19475092\"><img src=\"images/monster_moret.png\" style=\"margin-left: -604px; margin-right: -662px\" /></a></div><p>Genève</p></div>\n",
      "</div>\n"
     ]
    }
   ],
   "source": [
    "for name, group in df.groupby('name'):\n",
    "    output = '<div class=\"stories stories_{}\">\\n'.format(name.lower())\n",
    "    output += '<h4>Lire des articles sur les «ennemis» qu’affronte {}:</h4>\\n'.format(group['fn'].values[0])\n",
    "    for i, row in group.iterrows():\n",
    "        imgstr = '<div><div class=\"enemylink\" style=\"width: {}px;\"><a target=\"_blank\" href=\"{}\"><img src=\"images/monster_{}.png\" style=\"margin-left: {}px; margin-right: {}px\" /></a></div><p>{}</p></div>\\n'\n",
    "\n",
    "        output += imgstr.format(row['width'], row['vqh'], row['name'].lower(), -row['clip_x1'], -row['clip_x2'], row['enemy'])\n",
    "    output += '</div>'\n",
    "    print(output)"
   ]
  },
  {
   "cell_type": "markdown",
   "metadata": {},
   "source": [
    "# simple"
   ]
  },
  {
   "cell_type": "code",
   "execution_count": 4,
   "metadata": {},
   "outputs": [
    {
     "name": "stdout",
     "output_type": "stream",
     "text": [
      "<div class=\"stories stories_cassis\">\n",
      "<h4>En savoir plus sur les obstacles de Cassis</h4>\n",
      "<div class=\"enemylink\" style=\"width: 50px;\"><a target=\"_blank\" href=\"https://www.24heures.ch/suisse/destin-maudit-candidates-plr-conseil-federal/story/14296426\"><img src=\"images/monster_cassis.png\" style=\"margin-left: 0px; margin-right: -50px\" /></a></div>\n",
      "<div class=\"enemylink\" style=\"width: 76px;\"><a target=\"_blank\" href=\"https://www.24heures.ch/suisse/plan-secret-elire-isabelle-moret/story/11809943\"><img src=\"images/monster_cassis.png\" style=\"margin-left: -100px; margin-right: -176px\" /></a></div>\n",
      "<div class=\"enemylink\" style=\"width: 50px;\"><a target=\"_blank\" href=\"https://www.24heures.ch/suisse/vaudois-pratiquent-souvent-conseil-federal/story/30329465\"><img src=\"images/monster_cassis.png\" style=\"margin-left: -404px; margin-right: -454px\" /></a></div>\n",
      "<div class=\"enemylink\" style=\"width: 58px;\"><a target=\"_blank\" href=\"https://www.24heures.ch/suisse/ignazio-cassis-renonce-passeport-italien/story/15875312\"><img src=\"images/monster_cassis.png\" style=\"margin-left: -604px; margin-right: -662px\" /></a></div>\n",
      "</div>\n",
      "<div class=\"stories stories_maudet\">\n",
      "<h4>En savoir plus sur les obstacles de Maudet</h4>\n",
      "<div class=\"enemylink\" style=\"width: 50px;\"><a target=\"_blank\" href=\"https://www.24heures.ch/suisse/destin-maudit-candidates-plr-conseil-federal/story/14296426\"><img src=\"images/monster_maudet.png\" style=\"margin-left: 0px; margin-right: -50px\" /></a></div>\n",
      "<div class=\"enemylink\" style=\"width: 76px;\"><a target=\"_blank\" href=\"https://www.24heures.ch/suisse/plan-secret-elire-isabelle-moret/story/11809943\"><img src=\"images/monster_maudet.png\" style=\"margin-left: -100px; margin-right: -176px\" /></a></div>\n",
      "<div class=\"enemylink\" style=\"width: 50px;\"><a target=\"_blank\" href=\"https://www.24heures.ch/suisse/heure-verite-isabelle-moret-pierre-maudet/story/19475092\"><img src=\"images/monster_maudet.png\" style=\"margin-left: -404px; margin-right: -454px\" /></a></div>\n",
      "<div class=\"enemylink\" style=\"width: 58px;\"><a target=\"_blank\" href=\"https://www.24heures.ch/news/news/pierre-maudet-candidat-conseil-federal-berne-parler-sujets-fond/story/13980975\"><img src=\"images/monster_maudet.png\" style=\"margin-left: -604px; margin-right: -662px\" /></a></div>\n",
      "</div>\n",
      "<div class=\"stories stories_moret\">\n",
      "<h4>En savoir plus sur les obstacles de Moret</h4>\n",
      "<div class=\"enemylink\" style=\"width: 50px;\"><a target=\"_blank\" href=\"https://www.24heures.ch/suisse/Les-louvoiements-de-Moret-sur-ses-liens-d-interets/story/27752222\"><img src=\"images/monster_moret.png\" style=\"margin-left: 0px; margin-right: -50px\" /></a></div>\n",
      "<div class=\"enemylink\" style=\"width: 76px;\"><a target=\"_blank\" href=\"https://www.24heures.ch/suisse/politique/Conseil-federal-femmes-de-droite-en-marche/story/22718219\"><img src=\"images/monster_moret.png\" style=\"margin-left: -100px; margin-right: -176px\" /></a></div>\n",
      "<div class=\"enemylink\" style=\"width: 50px;\"><a target=\"_blank\" href=\"https://www.24heures.ch/suisse/heure-verite-isabelle-moret-pierre-maudet/story/19475092\"><img src=\"images/monster_moret.png\" style=\"margin-left: -404px; margin-right: -454px\" /></a></div>\n",
      "<div class=\"enemylink\" style=\"width: 58px;\"><a target=\"_blank\" href=\"https://www.24heures.ch/suisse/heure-verite-isabelle-moret-pierre-maudet/story/19475092\"><img src=\"images/monster_moret.png\" style=\"margin-left: -604px; margin-right: -662px\" /></a></div>\n",
      "</div>\n"
     ]
    }
   ],
   "source": [
    "for name, group in df.groupby('name'):\n",
    "    output = '<div class=\"stories stories_{}\">\\n'.format(name.lower())\n",
    "    output += '<h4>En savoir plus sur les obstacles de {}</h4>\\n'.format(name)\n",
    "    for i, row in group.iterrows():\n",
    "        imgstr = '<div class=\"enemylink\" style=\"width: {}px;\"><a target=\"_blank\" href=\"{}\"><img src=\"images/monster_{}.png\" style=\"margin-left: {}px; margin-right: {}px\" /></a></div>\\n'\n",
    "\n",
    "        output += imgstr.format(row['width'], row['vqh'], row['name'].lower(), -row['clip_x1'], -row['clip_x2'])\n",
    "    output += '</div>'\n",
    "    print(output)"
   ]
  },
  {
   "cell_type": "code",
   "execution_count": null,
   "metadata": {
    "collapsed": true
   },
   "outputs": [],
   "source": []
  }
 ],
 "metadata": {
  "kernelspec": {
   "display_name": "Python 3",
   "language": "python",
   "name": "python3"
  },
  "language_info": {
   "codemirror_mode": {
    "name": "ipython",
    "version": 3
   },
   "file_extension": ".py",
   "mimetype": "text/x-python",
   "name": "python",
   "nbconvert_exporter": "python",
   "pygments_lexer": "ipython3",
   "version": "3.5.1"
  }
 },
 "nbformat": 4,
 "nbformat_minor": 2
}
